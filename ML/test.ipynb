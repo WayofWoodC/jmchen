{
 "cells": [
  {
   "cell_type": "code",
   "execution_count": 1,
   "metadata": {},
   "outputs": [],
   "source": [
    "import torch\n",
    "import torch.nn as nn\n",
    "import torch.optim as optim\n",
    "import numpy as np\n",
    "import pandas as pd\n",
    "import os\n",
    "from scipy.stats import spearmanr\n",
    "import matplotlib.pyplot as plt\n",
    "\n",
    "files=os.listdir('/data/disk4/output_stocks/ytcheng/processed_data_byyear')\n",
    "files.sort()\n"
   ]
  },
  {
   "cell_type": "code",
   "execution_count": 2,
   "metadata": {},
   "outputs": [
    {
     "data": {
      "text/plain": [
       "['2019-01.fea',\n",
       " '2019-02.fea',\n",
       " '2019-03.fea',\n",
       " '2019-04.fea',\n",
       " '2019-05.fea',\n",
       " '2019-06.fea',\n",
       " '2019-07.fea',\n",
       " '2019-08.fea',\n",
       " '2019-09.fea',\n",
       " '2019-10.fea',\n",
       " '2019-11.fea',\n",
       " '2019-12.fea']"
      ]
     },
     "execution_count": 2,
     "metadata": {},
     "output_type": "execute_result"
    }
   ],
   "source": [
    "files[36:48]"
   ]
  },
  {
   "cell_type": "code",
   "execution_count": 3,
   "metadata": {},
   "outputs": [
    {
     "name": "stdout",
     "output_type": "stream",
     "text": [
      "2019-01.fea\n",
      "2019-02.fea\n",
      "2019-03.fea\n",
      "2019-04.fea\n",
      "2019-05.fea\n",
      "2019-06.fea\n",
      "2019-07.fea\n",
      "2019-08.fea\n",
      "2019-09.fea\n",
      "2019-10.fea\n",
      "2019-11.fea\n",
      "2019-12.fea\n"
     ]
    }
   ],
   "source": [
    "dfs=[]\n",
    "for file in files[36:48]:\n",
    "    print(file)\n",
    "    df=pd.read_feather('/data/disk4/output_stocks/ytcheng/processed_data_byyear/'+file)\n",
    "    cols = df.columns.difference(['tradingday','index'])\n",
    "    # 使用 astype 方法将这些列更改为 float16 类型\n",
    "    df[cols] = df[cols].astype(np.float16)\n",
    "    dfs.append(df)\n",
    "dfs=pd.concat(dfs,axis=0,join='inner')\n",
    "dfs=dfs.reset_index()\n",
    "dfs.to_feather('/data/disk4/output_stocks/jmchen/factors/ML/combine19.feather')"
   ]
  }
 ],
 "metadata": {
  "kernelspec": {
   "display_name": "py38",
   "language": "python",
   "name": "python3"
  },
  "language_info": {
   "codemirror_mode": {
    "name": "ipython",
    "version": 3
   },
   "file_extension": ".py",
   "mimetype": "text/x-python",
   "name": "python",
   "nbconvert_exporter": "python",
   "pygments_lexer": "ipython3",
   "version": "3.9.18"
  }
 },
 "nbformat": 4,
 "nbformat_minor": 2
}
